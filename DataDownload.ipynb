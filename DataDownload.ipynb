{
 "cells": [
  {
   "cell_type": "code",
   "execution_count": 1,
   "id": "cbec47d4",
   "metadata": {},
   "outputs": [
    {
     "name": "stdout",
     "output_type": "stream",
     "text": [
      "done\n"
     ]
    },
    {
     "name": "stderr",
     "output_type": "stream",
     "text": [
      "/home/ec2-user/anaconda3/envs/amazonei_tensorflow2_p27/lib/python2.7/site-packages/OpenSSL/crypto.py:12: CryptographyDeprecationWarning: Python 2 is no longer supported by the Python core team. Support for it is now deprecated in cryptography, and will be removed in the next release.\n",
      "  from cryptography import x509\n"
     ]
    }
   ],
   "source": [
    "import requests, zipfile, io\n",
    "import pandas as pd\n",
    "import numpy as np\n",
    "import os\n",
    "import matplotlib.pyplot as plt\n",
    "from matplotlib.patches import Rectangle\n",
    "from PIL import Image\n",
    "from io import BytesIO\n",
    "import random\n",
    "import tensorflow as tf\n",
    "import time\n",
    "import tensorflow.keras\n",
    "from tensorflow.keras.preprocessing.image import ImageDataGenerator\n",
    "from tensorflow.keras.applications.resnet50 import ResNet50\n",
    "from tensorflow.keras.layers import GlobalAveragePooling2D, Dense\n",
    "from tensorflow.keras import optimizers\n",
    "from tensorflow.keras.models import Model\n",
    "import requests\n",
    "labels = 'https://bean-team-sagemaker.s3.us-west-2.amazonaws.com/labels+and+CUI+counts/PADCHEST_chest_x_ray_images_labels_160K_01.02.19.csv'\n",
    "print('done')\n"
   ]
  },
  {
   "cell_type": "code",
   "execution_count": 2,
   "id": "e4eee38f",
   "metadata": {},
   "outputs": [
    {
     "name": "stdout",
     "output_type": "stream",
     "text": [
      "\u001b[33mDEPRECATION: Python 2.7 reached the end of its life on January 1st, 2020. Please upgrade your Python as Python 2.7 is no longer maintained. pip 21.0 will drop support for Python 2.7 in January 2021. More details about Python 2 support in pip can be found at https://pip.pypa.io/en/latest/development/release-process/#python-2-support pip 21.0 will remove support for this functionality.\u001b[0m\n",
      "Requirement already up-to-date: pip in /home/ec2-user/anaconda3/envs/amazonei_tensorflow2_p27/lib/python2.7/site-packages (20.3.4)\n",
      "\u001b[33mDEPRECATION: Python 2.7 reached the end of its life on January 1st, 2020. Please upgrade your Python as Python 2.7 is no longer maintained. pip 21.0 will drop support for Python 2.7 in January 2021. More details about Python 2 support in pip can be found at https://pip.pypa.io/en/latest/development/release-process/#python-2-support pip 21.0 will remove support for this functionality.\u001b[0m\n",
      "Collecting ipykernel\n",
      "  Downloading ipykernel-4.10.1-py2-none-any.whl (109 kB)\n",
      "\u001b[K     |████████████████████████████████| 109 kB 6.6 MB/s eta 0:00:01\n",
      "\u001b[?25hRequirement already satisfied, skipping upgrade: ipython>=4.0.0 in /home/ec2-user/anaconda3/envs/amazonei_tensorflow2_p27/lib/python2.7/site-packages (from ipykernel) (5.9.0)\n",
      "Requirement already satisfied, skipping upgrade: jupyter-client in /home/ec2-user/anaconda3/envs/amazonei_tensorflow2_p27/lib/python2.7/site-packages (from ipykernel) (5.3.3)\n",
      "Requirement already satisfied, skipping upgrade: tornado>=4.0 in /home/ec2-user/anaconda3/envs/amazonei_tensorflow2_p27/lib/python2.7/site-packages (from ipykernel) (5.1.1)\n",
      "Requirement already satisfied, skipping upgrade: traitlets>=4.1.0 in /home/ec2-user/anaconda3/envs/amazonei_tensorflow2_p27/lib/python2.7/site-packages (from ipykernel) (4.3.3)\n",
      "Requirement already satisfied, skipping upgrade: backports.shutil-get-terminal-size; python_version == \"2.7\" in /home/ec2-user/anaconda3/envs/amazonei_tensorflow2_p27/lib/python2.7/site-packages (from ipython>=4.0.0->ipykernel) (1.0.0)\n",
      "Requirement already satisfied, skipping upgrade: pathlib2; python_version == \"2.7\" or python_version == \"3.3\" in /home/ec2-user/anaconda3/envs/amazonei_tensorflow2_p27/lib/python2.7/site-packages (from ipython>=4.0.0->ipykernel) (2.3.5)\n",
      "Requirement already satisfied, skipping upgrade: simplegeneric>0.8 in /home/ec2-user/anaconda3/envs/amazonei_tensorflow2_p27/lib/python2.7/site-packages (from ipython>=4.0.0->ipykernel) (0.8.1)\n",
      "Requirement already satisfied, skipping upgrade: prompt-toolkit<2.0.0,>=1.0.4 in /home/ec2-user/anaconda3/envs/amazonei_tensorflow2_p27/lib/python2.7/site-packages (from ipython>=4.0.0->ipykernel) (1.0.15)\n",
      "Requirement already satisfied, skipping upgrade: pickleshare in /home/ec2-user/anaconda3/envs/amazonei_tensorflow2_p27/lib/python2.7/site-packages (from ipython>=4.0.0->ipykernel) (0.7.5)\n",
      "Requirement already satisfied, skipping upgrade: pexpect; sys_platform != \"win32\" in /home/ec2-user/anaconda3/envs/amazonei_tensorflow2_p27/lib/python2.7/site-packages (from ipython>=4.0.0->ipykernel) (4.7.0)\n",
      "Requirement already satisfied, skipping upgrade: decorator in /home/ec2-user/anaconda3/envs/amazonei_tensorflow2_p27/lib/python2.7/site-packages (from ipython>=4.0.0->ipykernel) (4.4.0)\n",
      "Requirement already satisfied, skipping upgrade: pygments in /home/ec2-user/anaconda3/envs/amazonei_tensorflow2_p27/lib/python2.7/site-packages (from ipython>=4.0.0->ipykernel) (2.4.2)\n",
      "Requirement already satisfied, skipping upgrade: setuptools>=18.5 in /home/ec2-user/anaconda3/envs/amazonei_tensorflow2_p27/lib/python2.7/site-packages (from ipython>=4.0.0->ipykernel) (41.4.0)\n",
      "Requirement already satisfied, skipping upgrade: jupyter-core in /home/ec2-user/anaconda3/envs/amazonei_tensorflow2_p27/lib/python2.7/site-packages (from jupyter-client->ipykernel) (4.5.0)\n",
      "Requirement already satisfied, skipping upgrade: pyzmq>=13 in /home/ec2-user/anaconda3/envs/amazonei_tensorflow2_p27/lib/python2.7/site-packages (from jupyter-client->ipykernel) (18.1.0)\n",
      "Requirement already satisfied, skipping upgrade: python-dateutil>=2.1 in /home/ec2-user/anaconda3/envs/amazonei_tensorflow2_p27/lib/python2.7/site-packages (from jupyter-client->ipykernel) (2.8.0)\n",
      "Requirement already satisfied, skipping upgrade: futures in /home/ec2-user/anaconda3/envs/amazonei_tensorflow2_p27/lib/python2.7/site-packages (from tornado>=4.0->ipykernel) (3.3.0)\n",
      "Requirement already satisfied, skipping upgrade: singledispatch in /home/ec2-user/anaconda3/envs/amazonei_tensorflow2_p27/lib/python2.7/site-packages (from tornado>=4.0->ipykernel) (3.4.0.3)\n",
      "Requirement already satisfied, skipping upgrade: backports_abc>=0.4 in /home/ec2-user/anaconda3/envs/amazonei_tensorflow2_p27/lib/python2.7/site-packages (from tornado>=4.0->ipykernel) (0.5)\n",
      "Requirement already satisfied, skipping upgrade: ipython-genutils in /home/ec2-user/anaconda3/envs/amazonei_tensorflow2_p27/lib/python2.7/site-packages (from traitlets>=4.1.0->ipykernel) (0.2.0)\n",
      "Requirement already satisfied, skipping upgrade: six in /home/ec2-user/anaconda3/envs/amazonei_tensorflow2_p27/lib/python2.7/site-packages (from traitlets>=4.1.0->ipykernel) (1.12.0)\n",
      "Requirement already satisfied, skipping upgrade: enum34; python_version == \"2.7\" in /home/ec2-user/anaconda3/envs/amazonei_tensorflow2_p27/lib/python2.7/site-packages (from traitlets>=4.1.0->ipykernel) (1.1.6)\n",
      "Requirement already satisfied, skipping upgrade: scandir; python_version < \"3.5\" in /home/ec2-user/anaconda3/envs/amazonei_tensorflow2_p27/lib/python2.7/site-packages (from pathlib2; python_version == \"2.7\" or python_version == \"3.3\"->ipython>=4.0.0->ipykernel) (1.10.0)\n",
      "Requirement already satisfied, skipping upgrade: wcwidth in /home/ec2-user/anaconda3/envs/amazonei_tensorflow2_p27/lib/python2.7/site-packages (from prompt-toolkit<2.0.0,>=1.0.4->ipython>=4.0.0->ipykernel) (0.1.7)\n",
      "Requirement already satisfied, skipping upgrade: ptyprocess>=0.5 in /home/ec2-user/anaconda3/envs/amazonei_tensorflow2_p27/lib/python2.7/site-packages (from pexpect; sys_platform != \"win32\"->ipython>=4.0.0->ipykernel) (0.6.0)\n",
      "Installing collected packages: ipykernel\n",
      "  Attempting uninstall: ipykernel\n",
      "    Found existing installation: ipykernel 4.10.0\n",
      "    Uninstalling ipykernel-4.10.0:\n",
      "      Successfully uninstalled ipykernel-4.10.0\n",
      "Successfully installed ipykernel-4.10.1\n",
      "Installed kernelspec python3 in /home/ec2-user/.local/share/jupyter/kernels/python3\n"
     ]
    }
   ],
   "source": [
    "!pip install --upgrade pip\n",
    "!pip install ipykernel --upgrade\n",
    "!python3 -m ipykernel install --user"
   ]
  },
  {
   "cell_type": "code",
   "execution_count": 3,
   "id": "2590f093",
   "metadata": {},
   "outputs": [
    {
     "name": "stderr",
     "output_type": "stream",
     "text": [
      "/home/ec2-user/anaconda3/envs/amazonei_tensorflow2_p27/lib/python2.7/site-packages/boto3/compat.py:86: PythonDeprecationWarning: Boto3 will no longer support Python 2.7 starting July 15, 2021. To continue receiving service updates, bug fixes, and security updates please upgrade to Python 3.6 or later. More information can be found here: https://aws.amazon.com/blogs/developer/announcing-end-of-support-for-python-2-7-in-aws-sdk-for-python-and-aws-cli-v1/\n",
      "  warnings.warn(warning, PythonDeprecationWarning)\n"
     ]
    }
   ],
   "source": [
    "import boto3\n",
    "\n",
    "s3_client = boto3.client('s3')\n",
    "s3_client.download_file('bean-team-sagemaker','labels and CUI counts/PADCHEST_chest_x_ray_images_labels_160K_01.02.19.csv', 'labels.csv')"
   ]
  },
  {
   "cell_type": "code",
   "execution_count": 4,
   "id": "0176bd78",
   "metadata": {},
   "outputs": [],
   "source": [
    "lbls = pd.read_csv('labels.csv',low_memory = False)\n",
    "\n",
    "lbls0 = lbls[lbls['ImageDir'] ==0]\n",
    "lbls0 = lbls0.append(lbls[lbls['ImageDir'] ==1])\n",
    "lbls0 = lbls0.append(lbls[lbls['ImageDir'] ==2])\n",
    "\n",
    "ours = lbls0[['ImageID','ImageDir','PatientBirth','PatientSex_DICOM','Labels']]"
   ]
  },
  {
   "cell_type": "code",
   "execution_count": 5,
   "id": "c3e0c6f6",
   "metadata": {},
   "outputs": [
    {
     "name": "stdout",
     "output_type": "stream",
     "text": [
      "('seg', 0, 49.0, 'secs', 100, 'done')\n",
      "('seg', 0, 98.0, 'secs', 200, 'done')\n",
      "('seg', 0, 150.0, 'secs', 300, 'done')\n",
      "('seg', 0, 210.0, 'secs', 400, 'done')\n",
      "('seg', 0, 256.0, 'secs', 500, 'done')\n",
      "('seg', 0, 304.0, 'secs', 600, 'done')\n",
      "('seg', 1, 369.0, 'secs', 700, 'done')\n",
      "('seg', 1, 418.0, 'secs', 800, 'done')\n",
      "('seg', 1, 467.0, 'secs', 900, 'done')\n",
      "('seg', 1, 523.0, 'secs', 1000, 'done')\n",
      "('seg', 1, 571.0, 'secs', 1100, 'done')\n",
      "('seg', 1, 617.0, 'secs', 1200, 'done')\n",
      "('seg', 2, 683.0, 'secs', 1300, 'done')\n",
      "('seg', 2, 733.0, 'secs', 1400, 'done')\n",
      "('seg', 2, 781.0, 'secs', 1500, 'done')\n",
      "('seg', 2, 836.0, 'secs', 1600, 'done')\n",
      "('seg', 2, 883.0, 'secs', 1700, 'done')\n"
     ]
    }
   ],
   "source": [
    "#we have some 9000 pics, trying to load 4200\n",
    "t1 = time.time()\n",
    "ct =0\n",
    "s3_client = boto3.client('s3')\n",
    "starts = [600,1200,1800]\n",
    "for j in range(len(starts)):\n",
    "    M = []\n",
    "    diagnoses = []\n",
    "    for i in range(starts[j],starts[j]+600):\n",
    "        aws_loc = str(ours['ImageDir'][i])+'/'+ours['ImageID'][i]\n",
    "        loc = 'pics/'+str(ours['ImageDir'][i])+'_'+ours['ImageID'][i]\n",
    "        s3_client.download_file('bean-team-sagemaker', aws_loc, loc)\n",
    "        #we downloaded the image\n",
    "        diagnoses.append(ours['Labels'][i][1:-1])\n",
    "        #labels added\n",
    "        ima = Image.open(loc)\n",
    "        ima = ima.resize((1800,1800))\n",
    "        arr = np.asarray(ima).astype('int16')\n",
    "        mean,std = np.mean(arr),np.std(arr)\n",
    "        if std!=0:\n",
    "            #normalizing\n",
    "            arr = ((arr-mean)/std).astype('float16')\n",
    "            #saving the image at set resolution\n",
    "            M+=[arr]\n",
    "            dt = time.time()-t1\n",
    "            ct+=1\n",
    "            if ct%100==0:\n",
    "                print('seg',j,np.round(dt), 'secs',ct,'done')\n",
    "        os.remove(loc)\n",
    "        if i%300==0:\n",
    "            Xall = np.asarray(M).astype('float16')\n",
    "            np.save('xAll'+str(j),Xall)\n",
    "            np.save('diagnosesAll'+str(j),diagnoses)\n",
    "\n",
    "    Xall = np.asarray(M).astype('float16')\n",
    "    np.save('xAll'+str(j),Xall)\n",
    "    np.save('diagnosesAll'+str(j),diagnoses)"
   ]
  },
  {
   "cell_type": "code",
   "execution_count": null,
   "id": "6277be4c",
   "metadata": {},
   "outputs": [],
   "source": []
  }
 ],
 "metadata": {
  "kernelspec": {
   "display_name": "conda_amazonei_tensorflow2_p27",
   "language": "python",
   "name": "conda_amazonei_tensorflow2_p27"
  },
  "language_info": {
   "codemirror_mode": {
    "name": "ipython",
    "version": 2
   },
   "file_extension": ".py",
   "mimetype": "text/x-python",
   "name": "python",
   "nbconvert_exporter": "python",
   "pygments_lexer": "ipython2",
   "version": "2.7.16"
  }
 },
 "nbformat": 4,
 "nbformat_minor": 5
}
